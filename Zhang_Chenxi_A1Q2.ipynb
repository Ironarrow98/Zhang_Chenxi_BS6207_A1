{
 "cells": [
  {
   "cell_type": "code",
   "execution_count": 1,
   "id": "b7f6d108",
   "metadata": {},
   "outputs": [],
   "source": [
    "import sys\n",
    "\n",
    "import torch\n",
    "import torch.nn as nn\n",
    "from torchviz import make_dot\n",
    "# ======================================================\n",
    "def print_compute_tree(name,node):\n",
    "    dot = make_dot(node)\n",
    "    #print(dot)\n",
    "    dot.render(name)\n",
    "# ======================================================\n",
    "if __name__=='__main__':\n",
    "    \n",
    "    torch.manual_seed(2317)\n",
    "    x = torch.randn([1,1,10],requires_grad=True)\n",
    "    cn1 = nn.Conv1d(1,1,3,padding=1)\n",
    "    fc1 = nn.Linear(10,10)\n",
    "    fc2 = nn.Linear(10,1)\n",
    "    \n",
    "    y = torch.sum(x)\n",
    "    \n",
    "    c = cn1(x)\n",
    "    x = torch.flatten(x) + torch.flatten(c)\n",
    "    x = fc1(x)\n",
    "    x = fc2(x)\n",
    "    \n",
    "    loss = torch.sum((x - y) * (x - y))\n",
    "    print_compute_tree('./tree_ex', loss)\n",
    "###################################################\n"
   ]
  }
 ],
 "metadata": {
  "kernelspec": {
   "display_name": "Python 3",
   "language": "python",
   "name": "python3"
  },
  "language_info": {
   "codemirror_mode": {
    "name": "ipython",
    "version": 3
   },
   "file_extension": ".py",
   "mimetype": "text/x-python",
   "name": "python",
   "nbconvert_exporter": "python",
   "pygments_lexer": "ipython3",
   "version": "3.8.8"
  }
 },
 "nbformat": 4,
 "nbformat_minor": 5
}
